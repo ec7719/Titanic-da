{
 "cells": [
  {
   "cell_type": "code",
   "execution_count": 1,
   "id": "86b84ddf",
   "metadata": {
    "_cell_guid": "b1076dfc-b9ad-4769-8c92-a6c4dae69d19",
    "_uuid": "8f2839f25d086af736a60e9eeb907d3b93b6e0e5",
    "execution": {
     "iopub.execute_input": "2023-05-19T14:44:22.505300Z",
     "iopub.status.busy": "2023-05-19T14:44:22.504910Z",
     "iopub.status.idle": "2023-05-19T14:44:23.864356Z",
     "shell.execute_reply": "2023-05-19T14:44:23.862981Z"
    },
    "papermill": {
     "duration": 1.368779,
     "end_time": "2023-05-19T14:44:23.866755",
     "exception": false,
     "start_time": "2023-05-19T14:44:22.497976",
     "status": "completed"
    },
    "tags": []
   },
   "outputs": [
    {
     "name": "stderr",
     "output_type": "stream",
     "text": [
      "/opt/conda/lib/python3.10/site-packages/scipy/__init__.py:146: UserWarning: A NumPy version >=1.16.5 and <1.23.0 is required for this version of SciPy (detected version 1.23.5\n",
      "  warnings.warn(f\"A NumPy version >={np_minversion} and <{np_maxversion}\"\n"
     ]
    },
    {
     "name": "stdout",
     "output_type": "stream",
     "text": [
      "/kaggle/input/bird-vocalization-classifier/tensorflow2/bird-vocalization-classifier/2/saved_model.pb\n",
      "/kaggle/input/bird-vocalization-classifier/tensorflow2/bird-vocalization-classifier/2/assets/genus.csv\n",
      "/kaggle/input/bird-vocalization-classifier/tensorflow2/bird-vocalization-classifier/2/assets/family.csv\n",
      "/kaggle/input/bird-vocalization-classifier/tensorflow2/bird-vocalization-classifier/2/assets/order.csv\n",
      "/kaggle/input/bird-vocalization-classifier/tensorflow2/bird-vocalization-classifier/2/assets/label.csv\n",
      "/kaggle/input/bird-vocalization-classifier/tensorflow2/bird-vocalization-classifier/2/variables/variables.index\n",
      "/kaggle/input/bird-vocalization-classifier/tensorflow2/bird-vocalization-classifier/2/variables/variables.data-00000-of-00001\n",
      "/kaggle/input/titanic/train.csv\n",
      "/kaggle/input/titanic/test.csv\n",
      "/kaggle/input/titanic/gender_submission.csv\n",
      "/kaggle/input/d/petermark12/titanic/tested (1).csv\n"
     ]
    }
   ],
   "source": [
    "# This Python 3 environment comes with many helpful analytics libraries installed\n",
    "# It is defined by the kaggle/python Docker image: https://github.com/kaggle/docker-python\n",
    "# For example, here's several helpful packages to load\n",
    "\n",
    "import numpy as np # linear algebra\n",
    "import pandas as pd # data processing, CSV file I/O (e.g. pd.read_csv)\n",
    "import seaborn as ssn\n",
    "# Input data files are available in the read-only \"../input/\" directory\n",
    "# For example, running this (by clicking run or pressing Shift+Enter) will list all files under the input directory\n",
    "\n",
    "import os\n",
    "for dirname, _, filenames in os.walk('/kaggle/input'):\n",
    "    for filename in filenames:\n",
    "        print(os.path.join(dirname, filename))\n",
    "\n",
    "# You can write up to 20GB to the current directory (/kaggle/working/) that gets preserved as output when you create a version using \"Save & Run All\" \n",
    "# You can also write temporary files to /kaggle/temp/, but they won't be saved outside of the current session"
   ]
  },
  {
   "cell_type": "code",
   "execution_count": 2,
   "id": "a3c6b053",
   "metadata": {
    "execution": {
     "iopub.execute_input": "2023-05-19T14:44:23.878609Z",
     "iopub.status.busy": "2023-05-19T14:44:23.877908Z",
     "iopub.status.idle": "2023-05-19T14:44:23.903092Z",
     "shell.execute_reply": "2023-05-19T14:44:23.901710Z"
    },
    "papermill": {
     "duration": 0.033779,
     "end_time": "2023-05-19T14:44:23.905607",
     "exception": false,
     "start_time": "2023-05-19T14:44:23.871828",
     "status": "completed"
    },
    "tags": []
   },
   "outputs": [],
   "source": [
    "df=pd.read_csv(\"/kaggle/input/d/petermark12/titanic/tested (1).csv\")"
   ]
  },
  {
   "cell_type": "code",
   "execution_count": 3,
   "id": "31bf9eff",
   "metadata": {
    "execution": {
     "iopub.execute_input": "2023-05-19T14:44:23.917495Z",
     "iopub.status.busy": "2023-05-19T14:44:23.917115Z",
     "iopub.status.idle": "2023-05-19T14:44:23.930915Z",
     "shell.execute_reply": "2023-05-19T14:44:23.929762Z"
    },
    "papermill": {
     "duration": 0.022813,
     "end_time": "2023-05-19T14:44:23.933494",
     "exception": false,
     "start_time": "2023-05-19T14:44:23.910681",
     "status": "completed"
    },
    "tags": []
   },
   "outputs": [],
   "source": [
    "df['Age'].fillna(df['Age'].mean(),inplace=True)"
   ]
  },
  {
   "cell_type": "code",
   "execution_count": 4,
   "id": "90a1f506",
   "metadata": {
    "execution": {
     "iopub.execute_input": "2023-05-19T14:44:23.945276Z",
     "iopub.status.busy": "2023-05-19T14:44:23.944596Z",
     "iopub.status.idle": "2023-05-19T14:44:24.211425Z",
     "shell.execute_reply": "2023-05-19T14:44:24.210548Z"
    },
    "papermill": {
     "duration": 0.274909,
     "end_time": "2023-05-19T14:44:24.213389",
     "exception": false,
     "start_time": "2023-05-19T14:44:23.938480",
     "status": "completed"
    },
    "tags": []
   },
   "outputs": [
    {
     "data": {
      "text/plain": [
       "<AxesSubplot: xlabel='Sex', ylabel='Survived'>"
      ]
     },
     "execution_count": 4,
     "metadata": {},
     "output_type": "execute_result"
    },
    {
     "data": {
      "image/png": "[encoded data removed]",
      "text/plain": [
       "<Figure size 640x480 with 1 Axes>"
      ]
     },
     "metadata": {},
     "output_type": "display_data"
    }
   ],
   "source": [
    "ssn.barplot(x='Sex',y='Survived',data=df,hue='Sex')"
   ]
  },
  {
   "cell_type": "code",
   "execution_count": 5,
   "id": "7fbf6d16",
   "metadata": {
    "execution": {
     "iopub.execute_input": "2023-05-19T14:44:24.225300Z",
     "iopub.status.busy": "2023-05-19T14:44:24.224910Z",
     "iopub.status.idle": "2023-05-19T14:44:24.657378Z",
     "shell.execute_reply": "2023-05-19T14:44:24.656356Z"
    },
    "papermill": {
     "duration": 0.441323,
     "end_time": "2023-05-19T14:44:24.659842",
     "exception": false,
     "start_time": "2023-05-19T14:44:24.218519",
     "status": "completed"
    },
    "tags": []
   },
   "outputs": [],
   "source": [
    "from sklearn.model_selection import train_test_split\n",
    "from sklearn.linear_model import LinearRegression\n"
   ]
  },
  {
   "cell_type": "code",
   "execution_count": 6,
   "id": "131f4366",
   "metadata": {
    "execution": {
     "iopub.execute_input": "2023-05-19T14:44:24.671856Z",
     "iopub.status.busy": "2023-05-19T14:44:24.671504Z",
     "iopub.status.idle": "2023-05-19T14:44:24.685679Z",
     "shell.execute_reply": "2023-05-19T14:44:24.684295Z"
    },
    "papermill": {
     "duration": 0.022795,
     "end_time": "2023-05-19T14:44:24.687980",
     "exception": false,
     "start_time": "2023-05-19T14:44:24.665185",
     "status": "completed"
    },
    "tags": []
   },
   "outputs": [],
   "source": [
    "train=pd.read_csv(\"/kaggle/input/titanic/train.csv\")"
   ]
  },
  {
   "cell_type": "code",
   "execution_count": 7,
   "id": "637c6cb6",
   "metadata": {
    "execution": {
     "iopub.execute_input": "2023-05-19T14:44:24.700963Z",
     "iopub.status.busy": "2023-05-19T14:44:24.699511Z",
     "iopub.status.idle": "2023-05-19T14:44:24.712266Z",
     "shell.execute_reply": "2023-05-19T14:44:24.711469Z"
    },
    "papermill": {
     "duration": 0.021944,
     "end_time": "2023-05-19T14:44:24.715192",
     "exception": false,
     "start_time": "2023-05-19T14:44:24.693248",
     "status": "completed"
    },
    "tags": []
   },
   "outputs": [],
   "source": [
    "test=pd.read_csv(\"/kaggle/input/titanic/test.csv\")\n"
   ]
  },
  {
   "cell_type": "code",
   "execution_count": 8,
   "id": "451677b4",
   "metadata": {
    "execution": {
     "iopub.execute_input": "2023-05-19T14:44:24.727635Z",
     "iopub.status.busy": "2023-05-19T14:44:24.727301Z",
     "iopub.status.idle": "2023-05-19T14:44:24.966641Z",
     "shell.execute_reply": "2023-05-19T14:44:24.964977Z"
    },
    "papermill": {
     "duration": 0.248599,
     "end_time": "2023-05-19T14:44:24.969301",
     "exception": false,
     "start_time": "2023-05-19T14:44:24.720702",
     "status": "completed"
    },
    "tags": []
   },
   "outputs": [
    {
     "data": {
      "text/plain": [
       "<AxesSubplot: xlabel='Sex', ylabel='Survived'>"
      ]
     },
     "execution_count": 8,
     "metadata": {},
     "output_type": "execute_result"
    },
    {
     "data": {
      "image/png": "[encoded data removed]",
      "text/plain": [
       "<Figure size 640x480 with 1 Axes>"
      ]
     },
     "metadata": {},
     "output_type": "display_data"
    }
   ],
   "source": [
    "ssn.barplot(data=train,x='Sex',y='Survived',hue='Sex')"
   ]
  },
  {
   "cell_type": "code",
   "execution_count": null,
   "id": "9f15ab5d",
   "metadata": {
    "papermill": {
     "duration": 0.005076,
     "end_time": "2023-05-19T14:44:24.979927",
     "exception": false,
     "start_time": "2023-05-19T14:44:24.974851",
     "status": "completed"
    },
    "tags": []
   },
   "outputs": [],
   "source": []
  },
  {
   "cell_type": "code",
   "execution_count": 9,
   "id": "bc9a297d",
   "metadata": {
    "execution": {
     "iopub.execute_input": "2023-05-19T14:44:24.992930Z",
     "iopub.status.busy": "2023-05-19T14:44:24.992601Z",
     "iopub.status.idle": "2023-05-19T14:44:25.096043Z",
     "shell.execute_reply": "2023-05-19T14:44:25.095340Z"
    },
    "papermill": {
     "duration": 0.112281,
     "end_time": "2023-05-19T14:44:25.098025",
     "exception": false,
     "start_time": "2023-05-19T14:44:24.985744",
     "status": "completed"
    },
    "tags": []
   },
   "outputs": [
    {
     "data": {
      "text/plain": [
       "([<matplotlib.patches.Wedge at 0x7fc62956a1d0>,\n",
       "  <matplotlib.patches.Wedge at 0x7fc6294ce170>,\n",
       "  <matplotlib.patches.Wedge at 0x7fc62956a770>],\n",
       " [Text(-0.17571616709359641, 1.0858746836637898, 'firstclass'),\n",
       "  Text(-0.5160762002061153, -0.9714243951954356, 'secondclass'),\n",
       "  Text(0.8765111456658484, -0.6646263698677192, 'thirdclass')])"
      ]
     },
     "execution_count": 9,
     "metadata": {},
     "output_type": "execute_result"
    },
    {
     "data": {
      "image/png": "[encoded data removed]",
      "text/plain": [
       "<Figure size 640x480 with 1 Axes>"
      ]
     },
     "metadata": {},
     "output_type": "display_data"
    }
   ],
   "source": [
    "import matplotlib.pyplot as plt\n",
    "labels=['firstclass','secondclass','thirdclass']\n",
    "sizes=train['Pclass'].value_counts()\n",
    "plt.pie(sizes,labels=labels,)"
   ]
  },
  {
   "cell_type": "markdown",
   "id": "6a25b239",
   "metadata": {
    "papermill": {
     "duration": 0.008065,
     "end_time": "2023-05-19T14:44:25.113827",
     "exception": false,
     "start_time": "2023-05-19T14:44:25.105762",
     "status": "completed"
    },
    "tags": []
   },
   "source": [
    "# Sex Analysis"
   ]
  },
  {
   "cell_type": "code",
   "execution_count": 10,
   "id": "1be7b36a",
   "metadata": {
    "execution": {
     "iopub.execute_input": "2023-05-19T14:44:25.132375Z",
     "iopub.status.busy": "2023-05-19T14:44:25.131054Z",
     "iopub.status.idle": "2023-05-19T14:44:25.218077Z",
     "shell.execute_reply": "2023-05-19T14:44:25.217357Z"
    },
    "papermill": {
     "duration": 0.098215,
     "end_time": "2023-05-19T14:44:25.220052",
     "exception": false,
     "start_time": "2023-05-19T14:44:25.121837",
     "status": "completed"
    },
    "tags": []
   },
   "outputs": [
    {
     "data": {
      "text/plain": [
       "([<matplotlib.patches.Wedge at 0x7fc6293dca60>,\n",
       "  <matplotlib.patches.Wedge at 0x7fc6293dcdc0>],\n",
       " [Text(-0.4919454136803954, 0.9838646807152012, 'male'),\n",
       "  Text(0.4919455057964525, -0.9838646346559433, 'female')])"
      ]
     },
     "execution_count": 10,
     "metadata": {},
     "output_type": "execute_result"
    },
    {
     "data": {
      "image/png": "[encoded data removed]",
      "text/plain": [
       "<Figure size 640x480 with 1 Axes>"
      ]
     },
     "metadata": {},
     "output_type": "display_data"
    }
   ],
   "source": [
    "drago=train['Sex'].value_counts()\n",
    "drago\n",
    "labels=['male','female']\n",
    "plt.pie(drago,labels=labels)"
   ]
  },
  {
   "cell_type": "markdown",
   "id": "64e9b865",
   "metadata": {
    "papermill": {
     "duration": 0.007558,
     "end_time": "2023-05-19T14:44:25.235380",
     "exception": false,
     "start_time": "2023-05-19T14:44:25.227822",
     "status": "completed"
    },
    "tags": []
   },
   "source": [
    "**Ticket Analysis**\n"
   ]
  },
  {
   "cell_type": "code",
   "execution_count": 11,
   "id": "e80c0b9b",
   "metadata": {
    "execution": {
     "iopub.execute_input": "2023-05-19T14:44:25.253203Z",
     "iopub.status.busy": "2023-05-19T14:44:25.252542Z",
     "iopub.status.idle": "2023-05-19T14:44:25.260588Z",
     "shell.execute_reply": "2023-05-19T14:44:25.259856Z"
    },
    "papermill": {
     "duration": 0.019239,
     "end_time": "2023-05-19T14:44:25.262483",
     "exception": false,
     "start_time": "2023-05-19T14:44:25.243244",
     "status": "completed"
    },
    "tags": []
   },
   "outputs": [
    {
     "data": {
      "text/plain": [
       "347082      7\n",
       "CA. 2343    7\n",
       "1601        7\n",
       "3101295     6\n",
       "CA 2144     6\n",
       "           ..\n",
       "9234        1\n",
       "19988       1\n",
       "2693        1\n",
       "PC 17612    1\n",
       "370376      1\n",
       "Name: Ticket, Length: 681, dtype: int64"
      ]
     },
     "execution_count": 11,
     "metadata": {},
     "output_type": "execute_result"
    }
   ],
   "source": [
    "tick=train['Ticket'].value_counts()\n",
    "tick"
   ]
  },
  {
   "cell_type": "markdown",
   "id": "3b1f5ede",
   "metadata": {
    "papermill": {
     "duration": 0.007773,
     "end_time": "2023-05-19T14:44:25.278309",
     "exception": false,
     "start_time": "2023-05-19T14:44:25.270536",
     "status": "completed"
    },
    "tags": []
   },
   "source": [
    "# Survivied using Sex analysis"
   ]
  },
  {
   "cell_type": "code",
   "execution_count": 12,
   "id": "c8a793d7",
   "metadata": {
    "execution": {
     "iopub.execute_input": "2023-05-19T14:44:25.295796Z",
     "iopub.status.busy": "2023-05-19T14:44:25.295188Z",
     "iopub.status.idle": "2023-05-19T14:44:25.450927Z",
     "shell.execute_reply": "2023-05-19T14:44:25.450198Z"
    },
    "papermill": {
     "duration": 0.166768,
     "end_time": "2023-05-19T14:44:25.452797",
     "exception": false,
     "start_time": "2023-05-19T14:44:25.286029",
     "status": "completed"
    },
    "tags": []
   },
   "outputs": [
    {
     "data": {
      "text/plain": [
       "<AxesSubplot: xlabel='Survived', ylabel='count'>"
      ]
     },
     "execution_count": 12,
     "metadata": {},
     "output_type": "execute_result"
    },
    {
     "data": {
      "image/png": "[encoded data removed]",
      "text/plain": [
       "<Figure size 640x480 with 1 Axes>"
      ]
     },
     "metadata": {},
     "output_type": "display_data"
    }
   ],
   "source": [
    "import seaborn as sns\n",
    "\n",
    "sns.countplot(x='Survived', data=train,hue='Sex')\n"
   ]
  },
  {
   "cell_type": "markdown",
   "id": "7df4d8f9",
   "metadata": {
    "papermill": {
     "duration": 0.006635,
     "end_time": "2023-05-19T14:44:25.466392",
     "exception": false,
     "start_time": "2023-05-19T14:44:25.459757",
     "status": "completed"
    },
    "tags": []
   },
   "source": [
    "# Age analysis"
   ]
  },
  {
   "cell_type": "code",
   "execution_count": 13,
   "id": "99217741",
   "metadata": {
    "execution": {
     "iopub.execute_input": "2023-05-19T14:44:25.483041Z",
     "iopub.status.busy": "2023-05-19T14:44:25.482476Z",
     "iopub.status.idle": "2023-05-19T14:44:25.676167Z",
     "shell.execute_reply": "2023-05-19T14:44:25.675276Z"
    },
    "papermill": {
     "duration": 0.204746,
     "end_time": "2023-05-19T14:44:25.678088",
     "exception": false,
     "start_time": "2023-05-19T14:44:25.473342",
     "status": "completed"
    },
    "tags": []
   },
   "outputs": [
    {
     "data": {
      "text/plain": [
       "(array([ 10.,   2.,   4.,   6.,   3.,   7.,   9.,  28.,  34.,  39.,  25.,\n",
       "        119.,  20.,   7.,  16.,  13.,  14.,  10.,  13.,   8.,   4.,   8.,\n",
       "          4.,   5.,   5.,   3.,   1.,   0.,   0.,   1.]),\n",
       " array([ 0.17      ,  2.69766667,  5.22533333,  7.753     , 10.28066667,\n",
       "        12.80833333, 15.336     , 17.86366667, 20.39133333, 22.919     ,\n",
       "        25.44666667, 27.97433333, 30.502     , 33.02966667, 35.55733333,\n",
       "        38.085     , 40.61266667, 43.14033333, 45.668     , 48.19566667,\n",
       "        50.72333333, 53.251     , 55.77866667, 58.30633333, 60.834     ,\n",
       "        63.36166667, 65.88933333, 68.417     , 70.94466667, 73.47233333,\n",
       "        76.        ]),\n",
       " <BarContainer object of 30 artists>)"
      ]
     },
     "execution_count": 13,
     "metadata": {},
     "output_type": "execute_result"
    },
    {
     "data": {
      "image/png": "[encoded data removed]",
      "text/plain": [
       "<Figure size 640x480 with 1 Axes>"
      ]
     },
     "metadata": {},
     "output_type": "display_data"
    }
   ],
   "source": [
    "import matplotlib.pyplot as plt\n",
    "\n",
    "plt.hist(df['Age'], bins=30)\n"
   ]
  },
  {
   "cell_type": "markdown",
   "id": "de78e784",
   "metadata": {
    "papermill": {
     "duration": 0.006604,
     "end_time": "2023-05-19T14:44:25.691550",
     "exception": false,
     "start_time": "2023-05-19T14:44:25.684946",
     "status": "completed"
    },
    "tags": []
   },
   "source": [
    "# Sex classification using histogram"
   ]
  },
  {
   "cell_type": "code",
   "execution_count": 14,
   "id": "5e15ae3e",
   "metadata": {
    "execution": {
     "iopub.execute_input": "2023-05-19T14:44:25.706579Z",
     "iopub.status.busy": "2023-05-19T14:44:25.706188Z",
     "iopub.status.idle": "2023-05-19T14:44:25.836932Z",
     "shell.execute_reply": "2023-05-19T14:44:25.836198Z"
    },
    "papermill": {
     "duration": 0.140641,
     "end_time": "2023-05-19T14:44:25.838904",
     "exception": false,
     "start_time": "2023-05-19T14:44:25.698263",
     "status": "completed"
    },
    "tags": []
   },
   "outputs": [
    {
     "data": {
      "text/plain": [
       "(array([266.,   0.,   0.,   0.,   0.,   0.,   0.,   0.,   0., 152.]),\n",
       " array([0. , 0.1, 0.2, 0.3, 0.4, 0.5, 0.6, 0.7, 0.8, 0.9, 1. ]),\n",
       " <BarContainer object of 10 artists>)"
      ]
     },
     "execution_count": 14,
     "metadata": {},
     "output_type": "execute_result"
    },
    {
     "data": {
      "image/png": "[encoded data removed]",
      "text/plain": [
       "<Figure size 640x480 with 1 Axes>"
      ]
     },
     "metadata": {},
     "output_type": "display_data"
    }
   ],
   "source": [
    "plt.hist(df['Sex'])"
   ]
  },
  {
   "cell_type": "code",
   "execution_count": 15,
   "id": "cfdf524b",
   "metadata": {
    "execution": {
     "iopub.execute_input": "2023-05-19T14:44:25.861368Z",
     "iopub.status.busy": "2023-05-19T14:44:25.860458Z",
     "iopub.status.idle": "2023-05-19T14:44:25.997118Z",
     "shell.execute_reply": "2023-05-19T14:44:25.996421Z"
    },
    "papermill": {
     "duration": 0.150984,
     "end_time": "2023-05-19T14:44:25.999210",
     "exception": false,
     "start_time": "2023-05-19T14:44:25.848226",
     "status": "completed"
    },
    "tags": []
   },
   "outputs": [
    {
     "data": {
      "text/plain": [
       "(array([ 46.,   0.,   0.,   0.,   0., 270.,   0.,   0.,   0., 102.]),\n",
       " array([0. , 0.2, 0.4, 0.6, 0.8, 1. , 1.2, 1.4, 1.6, 1.8, 2. ]),\n",
       " <BarContainer object of 10 artists>)"
      ]
     },
     "execution_count": 15,
     "metadata": {},
     "output_type": "execute_result"
    },
    {
     "data": {
      "image/png": "[encoded data removed]",
      "text/plain": [
       "<Figure size 640x480 with 1 Axes>"
      ]
     },
     "metadata": {},
     "output_type": "display_data"
    }
   ],
   "source": [
    "plt.hist(df['Embarked'])"
   ]
  },
  {
   "cell_type": "code",
   "execution_count": 16,
   "id": "fd9b8abb",
   "metadata": {
    "execution": {
     "iopub.execute_input": "2023-05-19T14:44:26.020114Z",
     "iopub.status.busy": "2023-05-19T14:44:26.019068Z",
     "iopub.status.idle": "2023-05-19T14:44:26.170818Z",
     "shell.execute_reply": "2023-05-19T14:44:26.170098Z"
    },
    "papermill": {
     "duration": 0.164406,
     "end_time": "2023-05-19T14:44:26.173033",
     "exception": false,
     "start_time": "2023-05-19T14:44:26.008627",
     "status": "completed"
    },
    "tags": []
   },
   "outputs": [
    {
     "data": {
      "text/plain": [
       "<AxesSubplot: xlabel='Pclass', ylabel='Fare'>"
      ]
     },
     "execution_count": 16,
     "metadata": {},
     "output_type": "execute_result"
    },
    {
     "data": {
      "image/png": "[encoded data removed]",
      "text/plain": [
       "<Figure size 640x480 with 1 Axes>"
      ]
     },
     "metadata": {},
     "output_type": "display_data"
    }
   ],
   "source": [
    "import seaborn as sns\n",
    "\n",
    "sns.boxplot(x='Pclass', y='Fare', data=df)\n"
   ]
  },
  {
   "cell_type": "code",
   "execution_count": null,
   "id": "74a98047",
   "metadata": {
    "papermill": {
     "duration": 0.007406,
     "end_time": "2023-05-19T14:44:26.190622",
     "exception": false,
     "start_time": "2023-05-19T14:44:26.183216",
     "status": "completed"
    },
    "tags": []
   },
   "outputs": [],
   "source": []
  }
 ],
 "metadata": {
  "kernelspec": {
   "display_name": "Python 3",
   "language": "python",
   "name": "python3"
  },
  "language_info": {
   "codemirror_mode": {
    "name": "ipython",
    "version": 3
   },
   "file_extension": ".py",
   "mimetype": "text/x-python",
   "name": "python",
   "nbconvert_exporter": "python",
   "pygments_lexer": "ipython3",
   "version": "3.10.10"
  },
  "papermill": {
   "default_parameters": {},
   "duration": 14.59814,
   "end_time": "2023-05-19T14:44:27.221464",
   "environment_variables": {},
   "exception": null,
   "input_path": "__notebook__.ipynb",
   "output_path": "__notebook__.ipynb",
   "parameters": {},
   "start_time": "2023-05-19T14:44:12.623324",
   "version": "2.4.0"
  }
 },
 "nbformat": 4,
 "nbformat_minor": 5
}
